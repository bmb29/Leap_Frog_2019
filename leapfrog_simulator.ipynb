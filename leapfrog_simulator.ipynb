{
 "cells": [
  {
   "cell_type": "code",
   "execution_count": 16,
   "metadata": {},
   "outputs": [
    {
     "data": {
      "text/plain": [
       "PSS_function (generic function with 1 method)"
      ]
     },
     "execution_count": 16,
     "metadata": {},
     "output_type": "execute_result"
    }
   ],
   "source": [
    "using DifferentialEquations\n",
    "using PyCall\n",
    "pygui(:qt)\n",
    "using PyPlot\n",
    "pygui(true)\n",
    "include(\"leap_frog_definitions.jl\")\n",
    "include(\"PSS_Definitions_Dimer_X.jl\")"
   ]
  },
  {
   "cell_type": "code",
   "execution_count": 17,
   "metadata": {},
   "outputs": [
    {
     "data": {
      "text/plain": [
       "0.37796447300922725"
      ]
     },
     "execution_count": 17,
     "metadata": {},
     "output_type": "execute_result"
    }
   ],
   "source": [
    "H=.2\n",
    "h=1/(2*H)\n",
    "max_time=100\n",
    "a=(2+h-2*sqrt(h+1))/h\n",
    "Y=Yfind_Aref(1e-3,0,H);\n",
    "Yfind(h)=sqrt(h/(2h+1));\n",
    "P=Yfind(H)"
   ]
  },
  {
   "cell_type": "code",
   "execution_count": 18,
   "metadata": {},
   "outputs": [
    {
     "name": "stdout",
     "output_type": "stream",
     "text": [
      "0.5491258651979304\n"
     ]
    }
   ],
   "source": [
    "H=.18\n",
    "q20=1.5\n",
    "p20=0\n",
    "q2=q20\n",
    "p2=p20\n",
    "q1=0\n",
    "p1=P1_find_dimer(q20,p20,H)\n",
    "if isempty(p1)\n",
    "    p1=P1_find_dimer_second(q20,p20,H)\n",
    "end\n",
    "Q1=(q1+q2)/sqrt(2)\n",
    "Q2=(q1-q2)/sqrt(2)\n",
    "P1=(p1+p2)/sqrt(2)\n",
    "P2=(p1-p2)/sqrt(2);\n",
    "println(p1)"
   ]
  },
  {
   "cell_type": "code",
   "execution_count": 19,
   "metadata": {},
   "outputs": [],
   "source": [
    "u0=[Q1;P2;Q2;P1;0;0] # X P Q Y\n",
    "Q0=[Q1,Q2]; P0=[P1,P2];\n",
    "tspan = (0.0,max_time);"
   ]
  },
  {
   "cell_type": "code",
   "execution_count": 20,
   "metadata": {},
   "outputs": [
    {
     "data": {
      "text/plain": [
       "0.17999999999999997"
      ]
     },
     "execution_count": 20,
     "metadata": {},
     "output_type": "execute_result"
    }
   ],
   "source": [
    "# Aref_Hamiltonian(Q0[2],P0[2],0)\n",
    "Aref_Hamiltonian(Q0,P0,0)"
   ]
  },
  {
   "cell_type": "code",
   "execution_count": 21,
   "metadata": {},
   "outputs": [],
   "source": [
    "prob = ODEProblem(Eq_of_M_LAB_FRAME,u0,tspan)\n",
    "t,A=solve(prob, RK4(),reltol=1e-6,abstol=1e-8,maxiters=1e15);"
   ]
  },
  {
   "cell_type": "code",
   "execution_count": 22,
   "metadata": {},
   "outputs": [],
   "source": [
    "N=length(t.t)\n",
    "Z=A[1,:]+im *A[2,:];\n",
    "W=A[3,:]+im *A[4,:];\n",
    "# Energy=zeros(N)\n",
    "# for k=1:N\n",
    "#     Energy[k]=abs(1/(1+Z[k]^2)-1/(1+W[k]^2))\n",
    "# end"
   ]
  },
  {
   "cell_type": "code",
   "execution_count": 23,
   "metadata": {},
   "outputs": [],
   "source": [
    "Q1=A[1,:]\n",
    "Q2=A[3,:]\n",
    "P1=A[4,:]\n",
    "P2=A[2,:];"
   ]
  },
  {
   "cell_type": "code",
   "execution_count": 24,
   "metadata": {},
   "outputs": [],
   "source": [
    "# figure()\n",
    "# plot(Q1,P1,\"b\")\n",
    "# plot(Q2,P2,\"r\");"
   ]
  },
  {
   "cell_type": "code",
   "execution_count": 25,
   "metadata": {},
   "outputs": [],
   "source": [
    "q1=(Q1+Q2)/sqrt(2)\n",
    "q2=(Q1-Q2)/sqrt(2)\n",
    "p1=(P1+P2)/sqrt(2)\n",
    "p2=(P1-P2)/sqrt(2);"
   ]
  },
  {
   "cell_type": "code",
   "execution_count": 26,
   "metadata": {},
   "outputs": [],
   "source": [
    "figure()\n",
    "plot(q1,p1,\"b\")\n",
    "plot(q2,p2,\"r\");"
   ]
  },
  {
   "cell_type": "code",
   "execution_count": 27,
   "metadata": {},
   "outputs": [],
   "source": [
    "Centeroid=A[5,:]+im *A[6,:];\n",
    "\n",
    "lin_impulse=im*(1+a )*ones(N);\n",
    "z_1pos=.5*(Centeroid+Z+lin_impulse+W);\n",
    "z_1neg=.5*(Centeroid+Z-lin_impulse-W);\n",
    "z_2pos=.5*(Centeroid-Z+lin_impulse-W);\n",
    "z_2neg=.5*(Centeroid-Z-lin_impulse+W);\n",
    "\n",
    "z_1posX=real(z_1pos)\n",
    "z_1posY=imag(z_1pos)\n",
    "\n",
    "z_2posX=real(z_2pos)\n",
    "z_2posY=imag(z_2pos)\n",
    "\n",
    "z_1negX=real(z_1neg)\n",
    "z_1negY=imag(z_1neg)\n",
    "\n",
    "z_2negX=real(z_2neg)\n",
    "z_2negY=imag(z_2neg)\n",
    "\n",
    "figure()\n",
    "plot(z_1posX,z_1posY,c=\"b\",linewidth=2)\n",
    "plot(z_1negX,z_1negY,c=\"r\",linewidth=2)\n",
    "plot(z_2posX,z_2posY,c=\"b\",linewidth=1)\n",
    "plot(z_2negX,z_2negY,c=\"r\",linewidth=1)\n",
    "axis(\"equal\");"
   ]
  },
  {
   "cell_type": "markdown",
   "metadata": {},
   "source": [
    "The Poincare' Surface of section for this orbit is "
   ]
  },
  {
   "cell_type": "code",
   "execution_count": 28,
   "metadata": {},
   "outputs": [],
   "source": [
    "N_iter_Q=10;#50\n",
    "Q_start=-.3\n",
    "Q_end=.3\n",
    "N_iter_P=10\n",
    "P_start=-.01\n",
    "P_end=.01;\n",
    "\n",
    "ArrP=range(P_start,stop=P_end,length=N_iter_P)\n",
    "ArrQ=range(Q_start,stop=Q_end,length=N_iter_Q)\n",
    "\n",
    "Brandons_Colors=[\"#393b79\" ,\"#5254a3\",\"#6b6ecf\",\"#9c9ede\" ,\"#637939\",\"#8ca252\" ,\"#b5cf6b\" ,\"#cedb9c\" ,\"#8c6d31\",\"#bd9e39\" ,\"#e7ba52\",\"#e7cb94\",\"#843c39\",\"#ad494a\" ,\"#d6616b\",\"#e7969c\" ,\"#7b4173\" ,\"#a55194\",\"#ce6dbd\" ,\"#de9ed6\"];"
   ]
  },
  {
   "cell_type": "code",
   "execution_count": 29,
   "metadata": {},
   "outputs": [
    {
     "name": "stdout",
     "output_type": "stream",
     "text": [
      " 18.111216 seconds (23.72 M allocations: 786.618 MiB, 4.82% gc time)\n"
     ]
    }
   ],
   "source": [
    "figure()\n",
    "@time Q_PSS,P_PSS=PSS_function(q20, p20, H, 1e6);\n",
    "plot(Q_PSS,P_PSS,\".\", markersize=2, c=\"k\");\n",
    "# @time Q_PSS,P_PSS=PSS_function(q2, -p2, H, 1e4);\n",
    "# plot(Q_PSS,P_PSS,\".\", markersize=2, c=\"k\");\n",
    "# @time Q_PSS,P_PSS=PSS_function(-q2, p2, H, 1e4);\n",
    "# plot(Q_PSS,P_PSS,\".\", markersize=2, c=\"k\");\n",
    "# @time Q_PSS,P_PSS=PSS_function(-q2, -p2, H, 1e4);\n",
    "# plot(Q_PSS,P_PSS,\".\", markersize=2, c=\"k\");"
   ]
  },
  {
   "cell_type": "code",
   "execution_count": 30,
   "metadata": {},
   "outputs": [],
   "source": [
    "# @time for k=1:N_iter_P\n",
    "#     for j=1:N_iter_Q\n",
    "#         Q_PSS,P_PSS,dH=PSS_function(ArrQ[j], ArrP[k], H, t_max)       \n",
    "#         current_color=Brandons_Colors[mod(j,length(Brandons_Colors))+1]\n",
    "#         if dH!=1\n",
    "#             plot(P_PSS,Q_PSS,\".\", markersize=.1,c=current_color);\n",
    "#         end\n",
    "#     end\n",
    "# end\n",
    "# xlabel(\"P\")\n",
    "# ylabel(\"Q\")\n",
    "# xlim(-.01,.01) \n",
    "# ylim(-.3,.3) "
   ]
  },
  {
   "cell_type": "code",
   "execution_count": null,
   "metadata": {},
   "outputs": [],
   "source": []
  }
 ],
 "metadata": {
  "@webio": {
   "lastCommId": null,
   "lastKernelId": null
  },
  "kernelspec": {
   "display_name": "Julia 1.1.1",
   "language": "julia",
   "name": "julia-1.1"
  },
  "language_info": {
   "file_extension": ".jl",
   "mimetype": "application/julia",
   "name": "julia",
   "version": "1.1.1"
  }
 },
 "nbformat": 4,
 "nbformat_minor": 2
}
