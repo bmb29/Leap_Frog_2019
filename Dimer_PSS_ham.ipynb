{
 "cells": [
  {
   "cell_type": "markdown",
   "metadata": {},
   "source": [
    "\n",
    "# Comparasion of Different Canonical Coordinates\n",
    "## Author\n",
    "Brandon Behring\n",
    "\n",
    "W\n"
   ]
  },
  {
   "cell_type": "code",
   "execution_count": 1,
   "metadata": {},
   "outputs": [],
   "source": [
    "using DifferentialEquations\n",
    "using PyCall\n",
    "# pygui(:qt)\n",
    "using PyPlot\n",
    "include(\"PSS_Definitions_Dimer.jl\")\n",
    "# pygui(true);\n",
    "using Roots\n",
    "\n",
    "function Q1_find_dimer(Q2,P2,H_dimer)\n",
    "    Q1_to_find(Q1)=Hamiltonian_Dimer([Q1,Q2],[0,P2],1)-H_dimer\n",
    "    try\n",
    "        Q1=find_zeros(Q1_to_find,0,10,maxeval=100,maxfnevals=300,tol=1e-15)\n",
    "     catch\n",
    "        Q1=zeros(0)\n",
    "    end\n",
    "end\n",
    "H=.1\n",
    "# Yfind(h)=sqrt(h/(2h+1));\n",
    "# P=Yfind(H)"
   ]
  },
  {
   "cell_type": "code",
   "execution_count": 2,
   "metadata": {},
   "outputs": [
    {
     "data": {
      "text/plain": [
       "2-element Array{Float64,1}:\n",
       " 0.0014164003221533114\n",
       " 3.0901936635884186   "
      ]
     },
     "execution_count": 2,
     "metadata": {},
     "output_type": "execute_result"
    }
   ],
   "source": [
    "# Y=Yfind(H)0.23529411764705893\n",
    "P=.1\n",
    "Q1=Q1_find_dimer(0,sqrt(2)-.1,H)\n",
    "t_end=1000.0;\n",
    "q0,p0=[zeros(2) for i in 1:2]\n",
    "q0[1]=Q1[1]; \n",
    "q0[2]=0; \n",
    "p0[1]=0; \n",
    "p0[2]=sqrt(2);\n",
    "Q1"
   ]
  },
  {
   "cell_type": "code",
   "execution_count": 3,
   "metadata": {},
   "outputs": [
    {
     "name": "stdout",
     "output_type": "stream",
     "text": [
      " 46.767084 seconds (368.61 M allocations: 10.348 GiB, 33.18% gc time)\n"
     ]
    }
   ],
   "source": [
    "prob= HamiltonianProblem{true}(Hamiltonian_Dimer, q0, p0, (0., t_end));\n",
    "@time t,A=solve(prob, Vern9(),reltol=1e-13,abstol=1e-15,maxiters=1e15);"
   ]
  },
  {
   "cell_type": "code",
   "execution_count": 4,
   "metadata": {},
   "outputs": [],
   "source": [
    "q1=A[1,:]\n",
    "q2=A[2,:]\n",
    "p1=A[3,:]\n",
    "p2=A[4,:];"
   ]
  },
  {
   "cell_type": "code",
   "execution_count": 5,
   "metadata": {},
   "outputs": [],
   "source": [
    "Q1=(q1+q2)/sqrt(2)\n",
    "Q2=(q1-q2)/sqrt(2)\n",
    "P1=(p1+p2)/sqrt(2)\n",
    "P2=(p1-p2)/sqrt(2);"
   ]
  },
  {
   "cell_type": "code",
   "execution_count": 6,
   "metadata": {},
   "outputs": [
    {
     "data": {
      "image/png": "[encoded data removed]",
      "text/plain": [
       "Figure(PyObject <Figure size 640x480 with 1 Axes>)"
      ]
     },
     "metadata": {},
     "output_type": "display_data"
    }
   ],
   "source": [
    "figure()\n",
    "plot(q1,p1,\"b\",linewidth=.1)\n",
    "plot(q2,p2,\"r\",linewidth=.1);"
   ]
  },
  {
   "cell_type": "code",
   "execution_count": 7,
   "metadata": {},
   "outputs": [
    {
     "data": {
      "image/png": "[encoded data removed]",
      "text/plain": [
       "Figure(PyObject <Figure size 640x480 with 1 Axes>)"
      ]
     },
     "metadata": {},
     "output_type": "display_data"
    }
   ],
   "source": [
    "figure()\n",
    "plot(Q1,P1,\"b\",linewidth=.1)\n",
    "plot(Q2,P2,\"r\",linewidth=.1);"
   ]
  },
  {
   "cell_type": "code",
   "execution_count": 8,
   "metadata": {},
   "outputs": [],
   "source": [
    "max_hits=1000\n",
    "condition_max_hits(u,t,integrator)= count>max_hits\n",
    "affect_stop!(integrator) = terminate!(integrator)\n",
    "function condition_hits_PSS(u,t,integrator) # Event when event_f(u,t) == 0\n",
    "   u[3]\n",
    "end\n",
    "function affect_update_iterator!(integrator)\n",
    "   global count=count+1\n",
    "end;\n",
    "\n",
    "callback_max_hits=DiscreteCallback(condition_max_hits,affect_stop!)\n",
    "callback_hits_PSS=ContinuousCallback(condition_hits_PSS, affect_update_iterator!,nothing)\n",
    "cb=CallbackSet(callback_hits_PSS, callback_max_hits)\n",
    "cb=CallbackSet(callback_hits_PSS);"
   ]
  },
  {
   "cell_type": "code",
   "execution_count": 9,
   "metadata": {},
   "outputs": [
    {
     "ename": "UndefVarError",
     "evalue": "UndefVarError: count not defined",
     "output_type": "error",
     "traceback": [
      "UndefVarError: count not defined",
      "",
      "Stacktrace:",
      " [1] top-level scope at util.jl:156",
      " [2] top-level scope at In[9]:3"
     ]
    }
   ],
   "source": [
    "t_end=5e2;\n",
    "figure()\n",
    "@time Q_PSS,P_PSS=PSS_function( q0[2], p0[2], H, t_end,count);\n",
    "plot(Q_PSS,P_PSS,\".\", markersize=4, c\n",
    "    =\"k\");"
   ]
  },
  {
   "cell_type": "code",
   "execution_count": 10,
   "metadata": {},
   "outputs": [],
   "source": [
    "N_iter_Q=50;#50\n",
    "Q_start=-.3\n",
    "Q_end=.3\n",
    "N_iter_P=100\n",
    "P_start=-.9\n",
    "P_end=.9\n",
    "\n",
    "ArrP=range(P_start,stop=P_end,length=N_iter_P)\n",
    "ArrQ=range(Q_start,stop=Q_end,length=N_iter_Q)\n",
    "Brandons_Colors=[\"#393b79\" ,\"#5254a3\",\"#6b6ecf\",\"#9c9ede\" ,\"#637939\",\"#8ca252\" ,\"#b5cf6b\" ,\"#cedb9c\" ,\"#8c6d31\",\"#bd9e39\" ,\"#e7ba52\",\"#e7cb94\",\"#843c39\",\"#ad494a\" ,\"#d6616b\",\"#e7969c\" ,\"#7b4173\" ,\"#a55194\",\"#ce6dbd\" ,\"#de9ed6\"];"
   ]
  },
  {
   "cell_type": "code",
   "execution_count": 11,
   "metadata": {},
   "outputs": [
    {
     "ename": "MethodError",
     "evalue": "MethodError: no method matching PSS_function(::Int64, ::Float64, ::Float64, ::Float64, ::Int64)\nClosest candidates are:\n  PSS_function(::Any, ::Any, ::Any, ::Any) at /home/brandon_behring/Desktop/Leap_Frog_2019/PSS_Definitions_Dimer.jl:22",
     "output_type": "error",
     "traceback": [
      "MethodError: no method matching PSS_function(::Int64, ::Float64, ::Float64, ::Float64, ::Int64)\nClosest candidates are:\n  PSS_function(::Any, ::Any, ::Any, ::Any) at /home/brandon_behring/Desktop/Leap_Frog_2019/PSS_Definitions_Dimer.jl:22",
      "",
      "Stacktrace:",
      " [1] macro expansion at ./In[11]:4 [inlined]",
      " [2] top-level scope at ./In[11]:2 [inlined]",
      " [3] top-level scope at ./none:0"
     ]
    }
   ],
   "source": [
    "figure()\n",
    "@time for k=1:N_iter_P\n",
    "    global count=1\n",
    "    Q_PSS,P_PSS=PSS_function( 0, ArrP[k], H, t_end,count);       \n",
    "    current_color=Brandons_Colors[mod(k,length(Brandons_Colors))+1]\n",
    "    if Q_PSS!=0\n",
    "         plot(Q_PSS,P_PSS,\".\", markersize=.1,c=current_color);\n",
    "    end\n",
    "end"
   ]
  },
  {
   "cell_type": "code",
   "execution_count": null,
   "metadata": {},
   "outputs": [],
   "source": [
    " "
   ]
  }
 ],
 "metadata": {
  "@webio": {
   "lastCommId": null,
   "lastKernelId": null
  },
  "kernelspec": {
   "display_name": "Julia 1.1.1",
   "language": "julia",
   "name": "julia-1.1"
  },
  "language_info": {
   "file_extension": ".jl",
   "mimetype": "application/julia",
   "name": "julia",
   "version": "1.1.1"
  }
 },
 "nbformat": 4,
 "nbformat_minor": 2
}
